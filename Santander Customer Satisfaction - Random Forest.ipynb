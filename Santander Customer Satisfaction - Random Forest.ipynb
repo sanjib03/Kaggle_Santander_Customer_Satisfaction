{
 "cells": [
  {
   "cell_type": "code",
   "execution_count": 1,
   "metadata": {
    "collapsed": true
   },
   "outputs": [],
   "source": [
    "import pandas as pd\n",
    "import numpy as np"
   ]
  },
  {
   "cell_type": "code",
   "execution_count": null,
   "metadata": {
    "collapsed": true
   },
   "outputs": [],
   "source": [
    "# Load the packages for modeling\n",
    "from sklearn.ensemble import RandomForestClassifier\n",
    "#from sklearn.linear_model import LogisticRegression\n",
    "from sklearn.grid_search import GridSearchCV\n",
    "import matplotlib.pyplot as plt"
   ]
  },
  {
   "cell_type": "code",
   "execution_count": 93,
   "metadata": {
    "collapsed": false
   },
   "outputs": [],
   "source": [
    "# Load the datasets\n",
    "train = pd.read_csv(\"../input/train.csv\")\n",
    "test = pd.read_csv(\"../input/test.csv\")"
   ]
  },
  {
   "cell_type": "code",
   "execution_count": 98,
   "metadata": {
    "collapsed": false
   },
   "outputs": [
    {
     "data": {
      "text/plain": [
       "(76020, 369)"
      ]
     },
     "execution_count": 98,
     "metadata": {},
     "output_type": "execute_result"
    }
   ],
   "source": [
    "train.shape"
   ]
  },
  {
   "cell_type": "code",
   "execution_count": 97,
   "metadata": {
    "collapsed": false
   },
   "outputs": [],
   "source": [
    "# Seperate out predictors and target from the training data set\n",
    "# Remove the ID field from the test dataset and save it.\n",
    "# Drop the ID field from the training set\n",
    "train_y = train['TARGET']\n",
    "train_x = train\n",
    "train_x.drop(['ID', 'TARGET'], axis=1, inplace=True)\n",
    "test_id = test['ID']\n",
    "del test['ID']"
   ]
  },
  {
   "cell_type": "markdown",
   "metadata": {},
   "source": [
    "### Missing value imputation and remove duplicate and constant column"
   ]
  },
  {
   "cell_type": "code",
   "execution_count": 4,
   "metadata": {
    "collapsed": false
   },
   "outputs": [],
   "source": [
    "# Fixing the outliers in column 'var3'\n",
    "train_x['var3'].replace(-999999,0, inplace=True)\n",
    "test['var3'].replace(-999999,0, inplace=True)"
   ]
  },
  {
   "cell_type": "code",
   "execution_count": 5,
   "metadata": {
    "collapsed": false
   },
   "outputs": [],
   "source": [
    "# Remove all the columns which have constant values. \n",
    "# These columns have zero std deviation.\n",
    "rm_col=[] \n",
    "for col in train_x.columns:\n",
    "    if train_x[col].std()==0:\n",
    "        rm_col.append(col)\n",
    "\n",
    "train_x.drop(rm_col, axis=1, inplace=True)\n",
    "test.drop(rm_col, axis=1, inplace=True)"
   ]
  },
  {
   "cell_type": "code",
   "execution_count": 6,
   "metadata": {
    "collapsed": false
   },
   "outputs": [],
   "source": [
    "# Remove the duplicate columns. \n",
    "# Here we have columns with different name but exactly same values for each rows\n",
    "# We will compare each columns with all other columns\n",
    "dups_col = []\n",
    "for ii in range(len(train_x.columns)-1):\n",
    "    for jj in range(ii+1,len(train_x.columns)):\n",
    "        col1=train_x.columns[ii]\n",
    "        col2=train_x.columns[jj]\n",
    "        # take the columns as arrays adn then compare the values.\n",
    "        if np.array_equal(train_x[col1].values, train_x[col2].values) and not col2 in dups_col:\n",
    "            dups_col.append(col2)\n",
    "\n",
    "train_x.drop(dups_col, axis=1, inplace=True)\n",
    "test.drop(dups_col, axis=1, inplace=True)"
   ]
  },
  {
   "cell_type": "markdown",
   "metadata": {},
   "source": [
    "### Feature selection using Random Forest classifier"
   ]
  },
  {
   "cell_type": "code",
   "execution_count": 34,
   "metadata": {
    "collapsed": true
   },
   "outputs": [],
   "source": [
    "# Define a classifier\n",
    "rf_clf = RandomForestClassifier(max_depth=15,n_estimators=70, min_samples_leaf=50,\n",
    "                                  min_samples_split=100, random_state=10)"
   ]
  },
  {
   "cell_type": "code",
   "execution_count": 44,
   "metadata": {
    "collapsed": false
   },
   "outputs": [],
   "source": [
    "# Train the model\n",
    "rf_clf.fit(train_x,train_y)"
   ]
  },
  {
   "cell_type": "code",
   "execution_count": 68,
   "metadata": {
    "collapsed": false
   },
   "outputs": [],
   "source": [
    "# Plot the top 40 important features\n",
    "imp_feat_rf = pd.Series(rf_clf.feature_importances_, index=train_x.columns).sort_values(ascending=False)\n",
    "imp_feat_rf[:40].plot(kind='bar', title='Feature Importance with Random Forest', figsize=(12,8))\n",
    "plt.ylabel('Feature Importance values')\n",
    "plt.subplots_adjust(bottom=0.25)\n",
    "plt.savefig('FeatImportance.png')\n",
    "plt.show()"
   ]
  },
  {
   "cell_type": "code",
   "execution_count": 99,
   "metadata": {
    "collapsed": false
   },
   "outputs": [],
   "source": [
    "# Save indexes of the important features in descending order of their importance\n",
    "indices = np.argsort(rf_clf.feature_importances_)[::-1]"
   ]
  },
  {
   "cell_type": "code",
   "execution_count": 69,
   "metadata": {
    "collapsed": false
   },
   "outputs": [],
   "source": [
    "# list the names of the names of top 40 selected features adn remove the unicode\n",
    "select_feat =[str(s) for s in train_x.columns[indices][:40]]"
   ]
  },
  {
   "cell_type": "code",
   "execution_count": 72,
   "metadata": {
    "collapsed": false
   },
   "outputs": [],
   "source": [
    "# Make the subsets with 40 features only\n",
    "train_x_sub = train_x[select_feat]\n",
    "test_sub = test[select_feat]"
   ]
  },
  {
   "cell_type": "markdown",
   "metadata": {},
   "source": [
    "### We will use GridSearch package with cross validation to find best estimators from a list of parameters"
   ]
  },
  {
   "cell_type": "code",
   "execution_count": 73,
   "metadata": {
    "collapsed": true
   },
   "outputs": [],
   "source": [
    "# Define a new Random Forest Classifier\n",
    "select_rf_clf = RandomForestClassifier(random_state=10)"
   ]
  },
  {
   "cell_type": "code",
   "execution_count": 74,
   "metadata": {
    "collapsed": false
   },
   "outputs": [],
   "source": [
    "# Set a list of parameters\n",
    "param_grid = {\n",
    "    \n",
    "            'n_estimators': [50, 80, 100],\n",
    "            'max_depth': [5,10, 15]\n",
    "}"
   ]
  },
  {
   "cell_type": "code",
   "execution_count": 76,
   "metadata": {
    "collapsed": true
   },
   "outputs": [],
   "source": [
    "# we will use 10-fold cross-validation\n",
    "grid_clf = GridSearchCV(select_rf_clf,param_grid,cv=10)\n",
    "\n",
    "# Train the model\n",
    "grid_clf.fit(train_x_sub,train_y)"
   ]
  },
  {
   "cell_type": "code",
   "execution_count": 78,
   "metadata": {
    "collapsed": false
   },
   "outputs": [
    {
     "data": {
      "text/plain": [
       "RandomForestClassifier(bootstrap=True, class_weight=None, criterion='gini',\n",
       "            max_depth=10, max_features='auto', max_leaf_nodes=None,\n",
       "            min_samples_leaf=1, min_samples_split=2,\n",
       "            min_weight_fraction_leaf=0.0, n_estimators=50, n_jobs=1,\n",
       "            oob_score=False, random_state=10, verbose=0, warm_start=False)"
      ]
     },
     "execution_count": 78,
     "metadata": {},
     "output_type": "execute_result"
    }
   ],
   "source": [
    "# Get the best estimators\n",
    "best_rf_clf = grid_clf.best_estimator_\n",
    "best_rf_clf"
   ]
  },
  {
   "cell_type": "markdown",
   "metadata": {},
   "source": [
    "### Make prediction and save it in csv"
   ]
  },
  {
   "cell_type": "code",
   "execution_count": 86,
   "metadata": {
    "collapsed": false
   },
   "outputs": [],
   "source": [
    "# Make prediction with test data\n",
    "predicted_proba = best_rf_clf.predict_proba(test_sub)"
   ]
  },
  {
   "cell_type": "code",
   "execution_count": 89,
   "metadata": {
    "collapsed": false
   },
   "outputs": [],
   "source": [
    "# Save the prediction in CSV file\n",
    "# predicted_proba has two set probabilities for each Target class for each observation.\n",
    "# We are concerned about probability of class 1 and hence predicted_proba[:,1]\n",
    "submission = pd.DataFrame({'ID':test_id,'TARGET':predicted_proba[:,1]})\n",
    "submission.to_csv('submission.csv', index=False)"
   ]
  }
 ],
 "metadata": {
  "anaconda-cloud": {},
  "kernelspec": {
   "display_name": "Python [Root]",
   "language": "python",
   "name": "Python [Root]"
  },
  "language_info": {
   "codemirror_mode": {
    "name": "ipython",
    "version": 2
   },
   "file_extension": ".py",
   "mimetype": "text/x-python",
   "name": "python",
   "nbconvert_exporter": "python",
   "pygments_lexer": "ipython2",
   "version": "2.7.12"
  }
 },
 "nbformat": 4,
 "nbformat_minor": 0
}
